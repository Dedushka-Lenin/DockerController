{
 "cells": [
  {
   "cell_type": "code",
   "execution_count": null,
   "id": "6cb7e769",
   "metadata": {},
   "outputs": [],
   "source": [
    "import psycopg2\n",
    "from psycopg2.extensions import ISOLATION_LEVEL_AUTOCOMMIT"
   ]
  },
  {
   "cell_type": "code",
   "execution_count": null,
   "id": "d2aada2f",
   "metadata": {},
   "outputs": [],
   "source": [
    "DBNAME=\"containersDB\"\n",
    "USER=\"Red-Soft\"\n",
    "PASSWORD=\"vo{>lC^E$)c$F9–h\"\n",
    "HOST=\"localhost\"\n",
    "PORT=\"5432\""
   ]
  },
  {
   "cell_type": "code",
   "execution_count": null,
   "id": "ea146ef1",
   "metadata": {},
   "outputs": [],
   "source": [
    "connection = psycopg2.connect(\n",
    "    dbname=DBNAME,\n",
    "    user=DBNAME,\n",
    "    password=DBNAME,\n",
    "    host=DBNAME,\n",
    "    port=DBNAME\n",
    ")\n",
    "\n",
    "connection.set_isolation_level(ISOLATION_LEVEL_AUTOCOMMIT)\n",
    "connection.autocommit = True\n",
    "cursor = connection.cursor()"
   ]
  },
  {
   "cell_type": "code",
   "execution_count": null,
   "id": "6e7d7065",
   "metadata": {},
   "outputs": [],
   "source": [
    "tables = {\n",
    "    'users':[\n",
    "    {'name': 'login',\n",
    "        'dtype': 'VARCHAR(255)',\n",
    "        'constraints': 'NOT NULL CHECK (LENGTH(login) >= 3)'},\n",
    "    {'name': 'password',\n",
    "        'dtype': 'VARCHAR(255)',\n",
    "        'constraints': 'NOT NULL CHECK (LENGTH(password) >= 6)'}\n",
    "    ],\n",
    "    'containers':[\n",
    "    {'name': 'user_id',\n",
    "        'dtype': 'INTEGER',\n",
    "        'constraints': 'NOT NULL'},\n",
    "    {'name': 'containers_name',\n",
    "        'dtype': 'VARCHAR(255)',\n",
    "        'constraints': 'NOT NULL'},\n",
    "    {'name': 'repositories_id',\n",
    "        'dtype': 'INTEGER',\n",
    "        'constraints': 'NOT NULL'},\n",
    "    {'name': 'version',\n",
    "        'dtype': 'VARCHAR(255)',\n",
    "        'constraints': 'NOT NULL'}\n",
    "    ],\n",
    "    'repositories':[\n",
    "    {'name': 'user_id',\n",
    "        'dtype': 'INTEGER',\n",
    "        'constraints': 'NOT NULL'},\n",
    "    {'name': 'url',\n",
    "        'dtype': 'VARCHAR(255)',\n",
    "        'constraints': 'NOT NULL'},\n",
    "    {'name': 'repositories_name',\n",
    "        'dtype': 'VARCHAR(255)',\n",
    "        'constraints': 'NOT NULL'},\n",
    "    {'name': 'description',\n",
    "        'dtype': 'VARCHAR(255)',\n",
    "        'constraints': 'NOT NULL'}\n",
    "    ],\n",
    "    'version':[\n",
    "    {'name': 'repositories_id',\n",
    "        'dtype': 'INTEGER',\n",
    "        'constraints': 'NOT NULL'},\n",
    "    {'name': 'version',\n",
    "        'dtype': 'VARCHAR(255)',\n",
    "        'constraints': 'NOT NULL'}\n",
    "    ]\n",
    "}"
   ]
  }
 ],
 "metadata": {
  "kernelspec": {
   "display_name": "venv (3.11.13)",
   "language": "python",
   "name": "python3"
  },
  "language_info": {
   "name": "python",
   "version": "3.11.13"
  }
 },
 "nbformat": 4,
 "nbformat_minor": 5
}
